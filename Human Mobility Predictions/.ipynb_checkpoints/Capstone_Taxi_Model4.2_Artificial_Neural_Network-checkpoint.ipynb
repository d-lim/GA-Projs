{
 "cells": [
  {
   "cell_type": "markdown",
   "metadata": {},
   "source": [
    "# 4.2 Predictive Models Using Artificial Neural Network"
   ]
  },
  {
   "cell_type": "markdown",
   "metadata": {},
   "source": [
    "Besides using Tree Based Models, we shall use an Artificial Neural Network (ANN) to explore if we can increase the accuracy of destination predictions. ANN is used as it takes all inputs into consideration - Each individual input connects to a neuron and when receiving input, change its internal state (i.e. the activation) according to that input and an activation function, and produce output depending on the input and the activation.\n",
    "\n",
    "[Illustration](https://en.wikipedia.org/wiki/Artificial_neural_network#/media/File:Colored_neural_network.svg) as follows:\n",
    "[ANN]()\n",
    "\n",
    "As a regression approach is used in for our Tree Based Model, a classification approach will be used in the ANN model. \n",
    "\n",
    "To adopt an ANN the following steps are carried out:\n",
    " \n",
    "1. Form clusters of our destinations in our train set by rounding them to the fourth decimal place and geohashing them\n",
    "2. Split our train and val in to X (Predictor variables) and y (outcome variables) respectively\n",
    "3. Design and built our ANN model with Harversine distance as our custom loss function\n",
    "4. Fit X_train, y_train, X_val, y_val into our ANN to train it\n",
    "5. Plot Training and Validation Loss per epoch to determine how good our ANN is performing\n",
    "6. Chose the best model and use it to predict on our test set"
   ]
  },
  {
   "cell_type": "code",
   "execution_count": 1,
   "metadata": {
    "collapsed": true
   },
   "outputs": [],
   "source": [
    "import pandas as pd\n",
    "import numpy as np"
   ]
  },
  {
   "cell_type": "code",
   "execution_count": 2,
   "metadata": {
    "collapsed": true
   },
   "outputs": [],
   "source": [
    "train = pd.read_pickle('./Pickles/train')\n",
    "val = pd.read_pickle('./Pickles/val')\n",
    "test = pd.read_pickle('./Pickles/test')"
   ]
  },
  {
   "cell_type": "markdown",
   "metadata": {},
   "source": [
    "### To cluster our end destinations, a two step approach is taken:\n",
    "\n",
    "1. Extracting destinations coordinates in a pair. As latitudes and longitudes up to [4 decimals place have a precision of 11.132m](https://en.wikipedia.org/wiki/Decimal_degrees), points along the same street with be effectively grouped together.\n",
    "2. After rounding, in order to further cluster coordinates into larger groups, coordinates are geohashed. \n",
    "    - Geohash encodes a geographic location into a short string of letters and digits. It is a hierarchical spatial data structure which subdivides space into buckets of grid shape, using hilbert space filling curves. [More information on Geohash](http://www.bigfastblog.com/geohash-intro)\n",
    "    - [Geohash package used](https://pypi.python.org/pypi/geohash-hilbert)\n",
    "    - Geohash precision of 17, using with base 4 (2bit) is chosen as it groups coordinates within (0.152703km x 0.152703km = 0.02km sq) together\n",
    "    - After encoding, geohashes are decoded to get the centroid coordinates representing each cluster\n",
    " \n",
    "    "
   ]
  },
  {
   "cell_type": "code",
   "execution_count": 3,
   "metadata": {
    "collapsed": true
   },
   "outputs": [],
   "source": [
    "taxi = pd.concat([train, val], axis=0) #joining back train and val dataset to cluster end points"
   ]
  },
  {
   "cell_type": "code",
   "execution_count": 4,
   "metadata": {
    "collapsed": true
   },
   "outputs": [],
   "source": [
    "taxi[\"DESTINATION\"] = taxi[\"POLYLINE\"].map(lambda x: x[-1])\n",
    "taxi[\"DESTINATION_ROUNDED\"] = taxi[\"DESTINATION\"].map(lambda x : np.around(x,decimals=4))"
   ]
  },
  {
   "cell_type": "code",
   "execution_count": 5,
   "metadata": {
    "collapsed": true
   },
   "outputs": [],
   "source": [
    "import geohash_hilbert as ghh\n",
    "hashi = []\n",
    "for x in taxi[\"DESTINATION_ROUNDED\"]:\n",
    "    h = ghh.encode(x[0],x[1],precision=17, bits_per_char=2)\n",
    "    hashi.append(h)\n",
    "    \n",
    "taxi[\"GEOHASH\"] = pd.DataFrame(hashi)"
   ]
  },
  {
   "cell_type": "code",
   "execution_count": 9,
   "metadata": {
    "collapsed": true
   },
   "outputs": [],
   "source": [
    "taxi[\"DECODED\"] = taxi[\"GEOHASH\"].map(lambda x : ghh.decode(x, bits_per_char=2))"
   ]
  },
  {
   "cell_type": "code",
   "execution_count": 10,
   "metadata": {
    "collapsed": true
   },
   "outputs": [],
   "source": [
    "# getting the unique lat,long and converting them from tuples to lists\n",
    "def clusters(df):\n",
    "    decoded_unique = []\n",
    "    for line in df[\"DECODED\"].unique():\n",
    "        decoded_unique.append(list(line))\n",
    "    return np.array(decoded_unique)\n",
    "\n",
    "# getting the unique lat,long (which is the unique clusters) and converting them from tuples to lists\n",
    "clusters = clusters(taxi)"
   ]
  },
  {
   "cell_type": "markdown",
   "metadata": {},
   "source": [
    "As ANNs are sensitive to larger numbers, even though ORIGIN_CALL & TAXI_ID are in int/float, it is best practise to encode them. This also speeds up convergence. "
   ]
  },
  {
   "cell_type": "code",
   "execution_count": 11,
   "metadata": {
    "collapsed": true
   },
   "outputs": [],
   "source": [
    "from sklearn import preprocessing\n",
    "\n",
    "#Getting total class labels for both ORIGIN_CALL & TAXI_ID\n",
    "total_caller = pd.DataFrame(pd.concat([taxi[\"ORIGIN_CALL\"], test[\"ORIGIN_CALL\"]]))\n",
    "total_taxi_id = pd.DataFrame(pd.concat([taxi[\"TAXI_ID\"], test[\"TAXI_ID\"]]))\n",
    "\n",
    "\n",
    "#Fit total class labels for both ORIGIN_CALL & TAXI_ID\n",
    "taxi_id_encoder = preprocessing.LabelEncoder().fit(total_taxi_id[\"TAXI_ID\"])\n",
    "origin_call_encoder = preprocessing.LabelEncoder().fit(total_caller[\"ORIGIN_CALL\"])\n",
    "\n",
    "\n",
    "#Transform accordingly for train val and test\n",
    "taxi[\"TAXI_ID\"] = taxi_id_encoder.transform(taxi[\"TAXI_ID\"])\n",
    "taxi[\"ORIGIN_CALL\"] = origin_call_encoder.transform(taxi[\"ORIGIN_CALL\"])\n",
    "test[\"TAXI_ID\"] = taxi_id_encoder.transform(test[\"TAXI_ID\"])\n",
    "test[\"ORIGIN_CALL\"] = origin_call_encoder.transform(test[\"ORIGIN_CALL\"])"
   ]
  },
  {
   "cell_type": "markdown",
   "metadata": {},
   "source": [
    "Creating a metadata dict to store nunique values of each feature as this is required to be specified when building the ANN. "
   ]
  },
  {
   "cell_type": "code",
   "execution_count": 12,
   "metadata": {},
   "outputs": [
    {
     "name": "stdout",
     "output_type": "stream",
     "text": [
      "{'WEEK': 53, 'Q_HOUR': 97, 'CALLER_ID': 54396, 'TAXI_ID': 440, 'DAY': 8, 'CALL_TYPE': 4}\n"
     ]
    }
   ],
   "source": [
    "#preparing a dictionary of unique counts of \n",
    "metadata = {'CALL_TYPE': taxi[\"CALL_TYPE\"].nunique() +1,\n",
    "            'TAXI_ID': total_taxi_id[\"TAXI_ID\"].nunique() +1,\n",
    "            'WEEK': taxi[\"WEEK\"].nunique()+1,\n",
    "            'DAY': taxi[\"DAY\"].nunique()+1,\n",
    "            'Q_HOUR': taxi[\"Q_HOUR\"].nunique()+1,\n",
    "            'CALLER_ID' : total_caller[\"ORIGIN_CALL\"].nunique()+1\n",
    "           }\n",
    "\n",
    "print metadata"
   ]
  },
  {
   "cell_type": "code",
   "execution_count": 13,
   "metadata": {
    "collapsed": true
   },
   "outputs": [],
   "source": [
    "#clustering completed, data is split back into both train and val sets\n",
    "train = taxi.iloc[:taxi.shape[0] - int(0.001 * taxi.shape[0]) + 1].reset_index(drop=True)\n",
    "val = taxi.iloc[taxi.shape[0] - int(0.001 * taxi.shape[0]) + 1:].reset_index(drop=True)"
   ]
  },
  {
   "cell_type": "markdown",
   "metadata": {},
   "source": [
    "Similar to our tree based models, unrequired features are dropped."
   ]
  },
  {
   "cell_type": "code",
   "execution_count": 14,
   "metadata": {
    "collapsed": true
   },
   "outputs": [],
   "source": [
    "def drop_col(df):\n",
    "    \"\"\"\n",
    "    Dropping columns where features have been extracted\n",
    "    1. TRIP_ID is actually made up of both TAXI_ID and TIMESTAMP\n",
    "    2. Extracted all date_time data  \n",
    "    \"\"\"\n",
    "    return df.drop([ u'TRIP_ID', u'TIMESTAMP', u'POLYLINE', u'date_time', u'DISTANCE', u'DURATION', u'DESTINATION',\n",
    "       u'DESTINATION_ROUNDED', u'GEOHASH', u'END_LAT', u'END_LONG'], axis = 1)"
   ]
  },
  {
   "cell_type": "code",
   "execution_count": 15,
   "metadata": {
    "collapsed": true
   },
   "outputs": [],
   "source": [
    "train = drop_col(train)\n",
    "val = drop_col(val)\n",
    "test.drop([ u'TRIP_ID', u'TIMESTAMP', u'POLYLINE', u'date_time', u'DISTANCE', u'DURATION'], axis = 1, inplace=True)"
   ]
  },
  {
   "cell_type": "markdown",
   "metadata": {},
   "source": [
    "### Split our train and val in to X (Predictor variables) and y (outcome variables) "
   ]
  },
  {
   "cell_type": "code",
   "execution_count": 16,
   "metadata": {
    "collapsed": true
   },
   "outputs": [],
   "source": [
    "def X_y_split(df):\n",
    "    \"\"\"\n",
    "    Getting independent (X) and dependent (y) variables\n",
    "    \"\"\"\n",
    "    X = df.drop(['DECODED'], axis = 1).reset_index(drop=True)\n",
    "    y = df.loc[:,['DECODED']].reset_index(drop=True)\n",
    "    return X, y"
   ]
  },
  {
   "cell_type": "code",
   "execution_count": 17,
   "metadata": {
    "collapsed": true
   },
   "outputs": [],
   "source": [
    "X_train, y_train = X_y_split(train)\n",
    "X_val, y_val = X_y_split(val)"
   ]
  },
  {
   "cell_type": "markdown",
   "metadata": {
    "collapsed": true
   },
   "source": [
    "### Building ANN model with the following architecture:\n",
    "\n",
    "[ANN_Archi]()\n",
    "\n",
    "The architecture is fairly simple, a vanilla NN. Categorical features are inputted into an embedding layer (this is analogous to one hot encoding in other ML models). Continuous features are inutted into a dense layer (fully connected layer). One hidden layer with 500 neurons is used with Relu as the activation function. The output of the first layer is passed into a subsequent layer with a softmax activation to aggregate the probability of clusters, the highest probability will be chosen as the prediction in the output layer. The loss function used would be a custom loss function - the haversine distance. The ANN model will be striving to reduce the distance between the predicted and actual values of the validation set. In addition, the keras package do not take in pandas dataframes, therefore pre-processing of all inputs to numpy arrays (matrices and vectors) has to carried out."
   ]
  },
  {
   "cell_type": "code",
   "execution_count": 19,
   "metadata": {},
   "outputs": [
    {
     "name": "stderr",
     "output_type": "stream",
     "text": [
      "Using TensorFlow backend.\n"
     ]
    }
   ],
   "source": [
    "from keras.models import Sequential, Model\n",
    "from keras.optimizers import SGD, Adam, Adagrad\n",
    "from keras import backend as K\n",
    "from keras.layers.embeddings import Embedding\n",
    "from keras.layers import Dense, Reshape, concatenate, Activation, Dropout, Flatten, Reshape, Embedding, Input, merge, Merge\n",
    "from keras.callbacks import ModelCheckpoint\n",
    "import tensorflow as tf"
   ]
  },
  {
   "cell_type": "code",
   "execution_count": 20,
   "metadata": {},
   "outputs": [
    {
     "name": "stdout",
     "output_type": "stream",
     "text": [
      "Tensor(\"Shape:0\", shape=(2,), dtype=int32)\n",
      "Tensor(\"Shape_1:0\", shape=(2,), dtype=int32)\n",
      "Tensor(\"Shape_2:0\", shape=(2,), dtype=int32)\n",
      "Tensor(\"Shape_3:0\", shape=(2,), dtype=int32)\n",
      "Tensor(\"Shape_4:0\", shape=(2,), dtype=int32)\n",
      "Tensor(\"Shape_5:0\", shape=(2,), dtype=int32)\n",
      "Tensor(\"Shape_6:0\", shape=(2,), dtype=int32)\n",
      "Tensor(\"Shape_7:0\", shape=(2,), dtype=int32)\n",
      "Tensor(\"Shape_8:0\", shape=(2,), dtype=int32)\n",
      "Tensor(\"Shape_9:0\", shape=(2,), dtype=int32)\n",
      "Tensor(\"Shape_10:0\", shape=(2,), dtype=int32)\n",
      "Tensor(\"Shape_11:0\", shape=(2,), dtype=int32)\n",
      "Tensor(\"Shape_12:0\", shape=(2,), dtype=int32)\n",
      "Tensor(\"Shape_13:0\", shape=(2,), dtype=int32)\n",
      "Tensor(\"Shape_14:0\", shape=(2,), dtype=int32)\n",
      "Tensor(\"Shape_15:0\", shape=(2,), dtype=int32)\n",
      "Tensor(\"Shape_16:0\", shape=(2,), dtype=int32)\n",
      "Tensor(\"Shape_17:0\", shape=(2,), dtype=int32)\n",
      "(6029, 2)\n"
     ]
    }
   ],
   "source": [
    "input0 = Input(shape=(1,),name='Q_HOUR_input')\n",
    "print K.shape(input0)\n",
    "q_hour = Embedding(metadata['Q_HOUR'], 10)(input0)\n",
    "q_hour = Reshape((10,))(q_hour)\n",
    "print K.shape(q_hour)\n",
    "\n",
    "input1 = Input(shape=(1,),name='TAXI_ID_input')\n",
    "print K.shape(input1)\n",
    "taxi_id = Embedding(metadata['TAXI_ID'], 10)(input1)\n",
    "taxi_id = Reshape((10,))(taxi_id)\n",
    "print K.shape(taxi_id)\n",
    "\n",
    "input2 = Input(shape=(1,),name='WEEK_input')\n",
    "print K.shape(input2)\n",
    "week = Embedding(metadata['WEEK'], 10)(input2)\n",
    "week = Reshape((10,))(week)\n",
    "print K.shape(week)\n",
    "\n",
    "input3 = Input(shape=(1,),name='DAY_input')\n",
    "print K.shape(input3)\n",
    "day = Embedding(metadata['DAY'], 10)(input3)\n",
    "day = Reshape((10,))(day)\n",
    "print K.shape(day)\n",
    "\n",
    "input4 = Input(shape=(1,),name='CALL_TYPE_input')\n",
    "print K.shape(input4)\n",
    "call_type = Embedding(metadata['CALL_TYPE'], 10)(input4)\n",
    "call_type = Reshape((10,))(call_type)\n",
    "print K.shape(call_type)\n",
    "\n",
    "input5 = Input(shape=(1,),name='CALLER_ID_input')\n",
    "print K.shape(input5)\n",
    "caller_id = Embedding(metadata['CALLER_ID'], 10)(input5)\n",
    "caller_id = Reshape((10,))(caller_id)\n",
    "print K.shape(call_type)\n",
    "\n",
    "input6 = Input(shape=(18,), name='coords_input')\n",
    "print K.shape(input6)\n",
    "coords = Dense(1,)(input6)\n",
    "print K.shape(coords)\n",
    "\n",
    "input7 = Input(shape=(1,), name='distance_input')\n",
    "print K.shape(input7)\n",
    "distance = Dense(1)(input7)\n",
    "print K.shape(distance)\n",
    "\n",
    "input8 = Input(shape=(1,), name='duration_input')\n",
    "print K.shape(input8)\n",
    "duration = Dense(1)(input8)\n",
    "print K.shape(duration)\n",
    "\n",
    "taxi_merge = concatenate([q_hour, taxi_id, week, day, call_type, caller_id, coords, distance, duration])\n",
    "layer_1 = Dense(500, activation=\"relu\")(taxi_merge)\n",
    "layer_2 = Dense(len(clusters),activation='softmax')(layer_1)\n",
    "cast_clusters = K.cast_to_floatx(clusters)\n",
    "print(cast_clusters.shape)\n",
    "def destination(probabilities):\n",
    "    return tf.matmul(probabilities, cast_clusters)\n",
    "output_layer = Activation(destination)(layer_2)\n",
    "model = Model(inputs=[input0, input1, input2, input3, input4, input5, input6, input7, input8], outputs=output_layer, name='taxi')\n",
    "\n",
    "def tf_haversine(latlon1, latlon2):\n",
    "    \"\"\"\n",
    "    Tensorflow version of the Haversine function to calculate distances between two sets of points.\n",
    "    \"\"\"\n",
    "    lat1 = latlon1[:, 0]\n",
    "    lon1 = latlon1[:, 1]\n",
    "    lat2 = latlon2[:, 0]\n",
    "    lon2 = latlon2[:, 1]\n",
    "\n",
    "    REarth = 6371\n",
    "    lat = tf.abs(lat1 - lat2) * np.pi / 180\n",
    "    lon = tf.abs(lon1 - lon2) * np.pi / 180\n",
    "    lat1 = lat1 * np.pi / 180\n",
    "    lat2 = lat2 * np.pi / 180\n",
    "    a = tf.sin(lat / 2) * tf.sin(lat / 2) + tf.cos(lat1) * tf.cos(lat2) * tf.sin(lon / 2) * tf.sin(lon / 2)\n",
    "    d = 2 * tf_atan2(tf.sqrt(a), tf.sqrt(1 - a))\n",
    "    return REarth * d\n",
    "\n",
    "\n",
    "def tf_atan2(y, x):\n",
    "    \"\"\"\n",
    "    Tensorflow doesn't have an Atan2 function (at least not yet, see: https://github.com/tensorflow/tensorflow/issues/6095).\n",
    "    So we define it here ourselves.\n",
    "    \"\"\"\n",
    "    angle = tf.where(tf.greater(x,0.0), tf.atan(y/x), tf.zeros_like(x))\n",
    "    angle = tf.where(tf.logical_and(tf.less(x,0.0),  tf.greater_equal(y,0.0)), tf.atan(y/x) + np.pi, angle)\n",
    "    angle = tf.where(tf.logical_and(tf.less(x,0.0),  tf.less(y,0.0)), tf.atan(y/x) - np.pi, angle)\n",
    "    angle = tf.where(tf.logical_and(tf.equal(x,0.0), tf.greater(y,0.0)), 0.5*np.pi * tf.ones_like(x), angle)\n",
    "    angle = tf.where(tf.logical_and(tf.equal(x,0.0), tf.less(y,0.0)), -0.5*np.pi * tf.ones_like(x), angle)\n",
    "    angle = tf.where(tf.logical_and(tf.equal(x,0.0), tf.equal(y,0.0)), np.nan * tf.zeros_like(x), angle)\n",
    "    return angle\n",
    "\n",
    "optimizer = SGD(lr=0.01, decay=1e-6, momentum=0.9, nesterov=True, clipvalue=1.)\n",
    "model.compile(loss=tf_haversine, optimizer=optimizer)"
   ]
  },
  {
   "cell_type": "code",
   "execution_count": null,
   "metadata": {
    "collapsed": true
   },
   "outputs": [],
   "source": []
  },
  {
   "cell_type": "code",
   "execution_count": null,
   "metadata": {
    "collapsed": true
   },
   "outputs": [],
   "source": []
  },
  {
   "cell_type": "code",
   "execution_count": 22,
   "metadata": {
    "collapsed": true
   },
   "outputs": [],
   "source": [
    "def get_coordinates(df):\n",
    "    coords = pd.concat([df['START_LAT'], df['START_LONG'], \n",
    "                        df['LAT_2'], df['LONG_2'], \n",
    "                        df['LAT_3'], df['LONG_3'], \n",
    "                        df['LAT_4'], df['LONG_4'], \n",
    "                        df['LAT_5'], df['LONG_5'],\n",
    "                        df['LAT_5_last'], df['LONG_5_last'],\n",
    "                        df['LAT_4_last'], df['LONG_4_last'], \n",
    "                        df['LAT_3_last'], df['LONG_3_last'], \n",
    "                        df['LAT_2_last'], df['LONG_2_last']], axis=1)\n",
    "    return coords"
   ]
  },
  {
   "cell_type": "code",
   "execution_count": 23,
   "metadata": {
    "collapsed": true
   },
   "outputs": [],
   "source": [
    "# total_coordinates = get_coordinates(taxi)\n",
    "X_train_coordinates = pd.DataFrame(get_coordinates(X_train))\n",
    "X_val_coordinates = pd.DataFrame(get_coordinates(X_val))\n",
    "total_coordinates = pd.concat([X_train_coordinates, X_val_coordinates], axis=0)"
   ]
  },
  {
   "cell_type": "code",
   "execution_count": 24,
   "metadata": {
    "collapsed": true
   },
   "outputs": [],
   "source": [
    "from sklearn.preprocessing import StandardScaler\n",
    "\n",
    "coords_scaler = StandardScaler().fit(total_coordinates)\n",
    "X_train_coordinates = coords_scaler.transform(X_train_coordinates)\n",
    "X_val_coordinates = coords_scaler.transform(X_val_coordinates)"
   ]
  },
  {
   "cell_type": "code",
   "execution_count": 25,
   "metadata": {
    "collapsed": true
   },
   "outputs": [],
   "source": [
    "#preparing X, converting dataframe series into np arrays and also reshaping them to fit into the model\n",
    "def X_prep(df,coords):\n",
    "    X = []\n",
    "    Q_HOUR = df[\"Q_HOUR\"].as_matrix()\n",
    "    Q_HOUR = Q_HOUR.reshape(df.shape[0],1)\n",
    "    X.append(Q_HOUR)\n",
    "    \n",
    "    TAXI_ID = df[\"TAXI_ID\"].as_matrix()\n",
    "    TAXI_ID = TAXI_ID.reshape(df.shape[0],1)\n",
    "    X.append(TAXI_ID)\n",
    "    \n",
    "    WEEK = df[\"WEEK\"].as_matrix()\n",
    "    WEEK = WEEK.reshape(df.shape[0],1)\n",
    "    X.append(WEEK)\n",
    "    \n",
    "    DAY = df[\"DAY\"].as_matrix()\n",
    "    DAY = DAY.reshape(df.shape[0],1)\n",
    "    X.append(DAY)\n",
    "    \n",
    "    CALLER_ID = df[\"ORIGIN_CALL\"].as_matrix()\n",
    "    CALLER_ID = CALLER_ID.reshape(df.shape[0],1)\n",
    "    X.append(CALLER_ID)\n",
    "    \n",
    "    CALL_TYPE = df[\"CALL_TYPE\"].as_matrix()\n",
    "    CALL_TYPE = CALL_TYPE.reshape(df.shape[0],1)\n",
    "    X.append(CALL_TYPE)\n",
    "    \n",
    "    COORDS = coords\n",
    "    X.append(COORDS)\n",
    "    \n",
    "    DIS = df[\"DISTANCE_LOG\"].as_matrix()\n",
    "    DIS = DIS.reshape(df.shape[0],1)\n",
    "    X.append(DIS)\n",
    "    \n",
    "    DUR = df[\"DURATION_LOG\"].as_matrix()\n",
    "    DUR = DUR.reshape(df.shape[0],1)\n",
    "    X.append(DUR)\n",
    "    \n",
    "    return X\n",
    "\n",
    "X_train_array = X_prep(X_train, X_train_coordinates)\n",
    "X_val_array = X_prep(X_val, X_val_coordinates)"
   ]
  },
  {
   "cell_type": "code",
   "execution_count": 26,
   "metadata": {
    "collapsed": true
   },
   "outputs": [],
   "source": [
    "#converting lat,longs in tuples into list\n",
    "def y_labels(df):\n",
    "    decoded = []\n",
    "    for line in df[\"DECODED\"]:\n",
    "        decoded.append(list(line))\n",
    "    return np.array(decoded)\n",
    "\n",
    "#y_labels in np array\n",
    "y_train_array = y_labels(y_train)\n",
    "y_val_array = y_labels(y_val)"
   ]
  },
  {
   "cell_type": "code",
   "execution_count": 27,
   "metadata": {},
   "outputs": [
    {
     "name": "stdout",
     "output_type": "stream",
     "text": [
      "Train on 1580976 samples, validate on 1581 samples\n",
      "Epoch 1/50\n",
      "1580800/1580976 [============================>.] - ETA: 0s - loss: 1.3918Epoch 00001: saving model to ./taxi-001-3.5151.hdf5\n",
      "1580976/1580976 [==============================] - 96s 60us/step - loss: 1.3918 - val_loss: 3.5151\n",
      "Epoch 2/50\n",
      "1580800/1580976 [============================>.] - ETA: 0s - loss: 1.2237Epoch 00002: saving model to ./taxi-002-3.4535.hdf5\n",
      "1580976/1580976 [==============================] - 95s 60us/step - loss: 1.2237 - val_loss: 3.4535\n",
      "Epoch 3/50\n",
      "1580400/1580976 [============================>.] - ETA: 0s - loss: 1.1700Epoch 00003: saving model to ./taxi-003-3.5151.hdf5\n",
      "1580976/1580976 [==============================] - 94s 60us/step - loss: 1.1699 - val_loss: 3.5151\n",
      "Epoch 4/50\n",
      "1580000/1580976 [============================>.] - ETA: 0s - loss: 1.1363Epoch 00004: saving model to ./taxi-004-3.4942.hdf5\n",
      "1580976/1580976 [==============================] - 96s 60us/step - loss: 1.1363 - val_loss: 3.4942\n",
      "Epoch 5/50\n",
      "1580000/1580976 [============================>.] - ETA: 0s - loss: 1.1198Epoch 00005: saving model to ./taxi-005-3.5090.hdf5\n",
      "1580976/1580976 [==============================] - 95s 60us/step - loss: 1.1197 - val_loss: 3.5090\n",
      "Epoch 6/50\n",
      "1580200/1580976 [============================>.] - ETA: 0s - loss: 1.1071Epoch 00006: saving model to ./taxi-006-3.4991.hdf5\n",
      "1580976/1580976 [==============================] - 95s 60us/step - loss: 1.1071 - val_loss: 3.4991\n",
      "Epoch 7/50\n",
      "1580800/1580976 [============================>.] - ETA: 0s - loss: 1.1030Epoch 00007: saving model to ./taxi-007-3.5443.hdf5\n",
      "1580976/1580976 [==============================] - 96s 60us/step - loss: 1.1030 - val_loss: 3.5443\n",
      "Epoch 8/50\n",
      "1580600/1580976 [============================>.] - ETA: 0s - loss: 1.0906Epoch 00008: saving model to ./taxi-008-3.5103.hdf5\n",
      "1580976/1580976 [==============================] - 96s 60us/step - loss: 1.0906 - val_loss: 3.5103\n",
      "Epoch 9/50\n",
      "1580200/1580976 [============================>.] - ETA: 0s - loss: 1.0821Epoch 00009: saving model to ./taxi-009-3.5157.hdf5\n",
      "1580976/1580976 [==============================] - 96s 61us/step - loss: 1.0821 - val_loss: 3.5157\n",
      "Epoch 10/50\n",
      "1580200/1580976 [============================>.] - ETA: 0s - loss: 1.0765Epoch 00010: saving model to ./taxi-010-3.5305.hdf5\n",
      "1580976/1580976 [==============================] - 95s 60us/step - loss: 1.0765 - val_loss: 3.5305\n",
      "Epoch 11/50\n",
      "1580200/1580976 [============================>.] - ETA: 0s - loss: 1.0713Epoch 00011: saving model to ./taxi-011-3.4993.hdf5\n",
      "1580976/1580976 [==============================] - 95s 60us/step - loss: 1.0712 - val_loss: 3.4993\n",
      "Epoch 12/50\n",
      "1580800/1580976 [============================>.] - ETA: 0s - loss: 1.0666Epoch 00012: saving model to ./taxi-012-3.5267.hdf5\n",
      "1580976/1580976 [==============================] - 96s 61us/step - loss: 1.0666 - val_loss: 3.5267\n",
      "Epoch 13/50\n",
      "1580000/1580976 [============================>.] - ETA: 0s - loss: 1.0624Epoch 00013: saving model to ./taxi-013-3.5093.hdf5\n",
      "1580976/1580976 [==============================] - 96s 61us/step - loss: 1.0624 - val_loss: 3.5093\n",
      "Epoch 14/50\n",
      "1580200/1580976 [============================>.] - ETA: 0s - loss: 1.0588Epoch 00014: saving model to ./taxi-014-3.5331.hdf5\n",
      "1580976/1580976 [==============================] - 96s 61us/step - loss: 1.0588 - val_loss: 3.5331\n",
      "Epoch 15/50\n",
      "1580800/1580976 [============================>.] - ETA: 0s - loss: 1.0595Epoch 00015: saving model to ./taxi-015-3.5373.hdf5\n",
      "1580976/1580976 [==============================] - 96s 61us/step - loss: 1.0595 - val_loss: 3.5373\n",
      "Epoch 16/50\n",
      "1580600/1580976 [============================>.] - ETA: 0s - loss: 1.0539Epoch 00016: saving model to ./taxi-016-3.5461.hdf5\n",
      "1580976/1580976 [==============================] - 95s 60us/step - loss: 1.0539 - val_loss: 3.5461\n",
      "Epoch 17/50\n",
      "1580600/1580976 [============================>.] - ETA: 0s - loss: 1.0506Epoch 00017: saving model to ./taxi-017-3.5574.hdf5\n",
      "1580976/1580976 [==============================] - 95s 60us/step - loss: 1.0506 - val_loss: 3.5574\n",
      "Epoch 18/50\n",
      "1580800/1580976 [============================>.] - ETA: 0s - loss: 1.0501Epoch 00018: saving model to ./taxi-018-3.5556.hdf5\n",
      "1580976/1580976 [==============================] - 96s 61us/step - loss: 1.0501 - val_loss: 3.5556\n",
      "Epoch 19/50\n",
      "1580600/1580976 [============================>.] - ETA: 0s - loss: 1.0462Epoch 00019: saving model to ./taxi-019-3.5840.hdf5\n",
      "1580976/1580976 [==============================] - 96s 60us/step - loss: 1.0462 - val_loss: 3.5840\n",
      "Epoch 20/50\n",
      "1580400/1580976 [============================>.] - ETA: 0s - loss: 1.0446Epoch 00020: saving model to ./taxi-020-3.5672.hdf5\n",
      "1580976/1580976 [==============================] - 96s 61us/step - loss: 1.0446 - val_loss: 3.5672\n",
      "Epoch 21/50\n",
      "1580600/1580976 [============================>.] - ETA: 0s - loss: 1.0429Epoch 00021: saving model to ./taxi-021-3.5474.hdf5\n",
      "1580976/1580976 [==============================] - 96s 60us/step - loss: 1.0429 - val_loss: 3.5474\n",
      "Epoch 22/50\n",
      "1580400/1580976 [============================>.] - ETA: 0s - loss: 1.0403Epoch 00022: saving model to ./taxi-022-3.6008.hdf5\n",
      "1580976/1580976 [==============================] - 96s 60us/step - loss: 1.0403 - val_loss: 3.6008\n",
      "Epoch 23/50\n",
      "1580200/1580976 [============================>.] - ETA: 0s - loss: 1.0387Epoch 00023: saving model to ./taxi-023-3.5988.hdf5\n",
      "1580976/1580976 [==============================] - 96s 61us/step - loss: 1.0387 - val_loss: 3.5988\n",
      "Epoch 24/50\n",
      "1580000/1580976 [============================>.] - ETA: 0s - loss: 1.0360Epoch 00024: saving model to ./taxi-024-3.5849.hdf5\n",
      "1580976/1580976 [==============================] - 96s 61us/step - loss: 1.0360 - val_loss: 3.5849\n",
      "Epoch 25/50\n",
      "1580800/1580976 [============================>.] - ETA: 0s - loss: 1.0339Epoch 00025: saving model to ./taxi-025-3.6088.hdf5\n",
      "1580976/1580976 [==============================] - 96s 61us/step - loss: 1.0339 - val_loss: 3.6088\n",
      "Epoch 26/50\n",
      "1580000/1580976 [============================>.] - ETA: 0s - loss: 1.0316Epoch 00026: saving model to ./taxi-026-3.6163.hdf5\n",
      "1580976/1580976 [==============================] - 96s 61us/step - loss: 1.0316 - val_loss: 3.6163\n",
      "Epoch 27/50\n",
      "1580200/1580976 [============================>.] - ETA: 0s - loss: 1.0297Epoch 00027: saving model to ./taxi-027-3.5740.hdf5\n",
      "1580976/1580976 [==============================] - 96s 60us/step - loss: 1.0297 - val_loss: 3.5740\n",
      "Epoch 28/50\n",
      "1580000/1580976 [============================>.] - ETA: 0s - loss: 1.0279Epoch 00028: saving model to ./taxi-028-3.6480.hdf5\n",
      "1580976/1580976 [==============================] - 96s 61us/step - loss: 1.0279 - val_loss: 3.6480\n",
      "Epoch 29/50\n",
      "1580800/1580976 [============================>.] - ETA: 0s - loss: 1.0263Epoch 00029: saving model to ./taxi-029-3.6413.hdf5\n",
      "1580976/1580976 [==============================] - 96s 61us/step - loss: 1.0263 - val_loss: 3.6413\n",
      "Epoch 30/50\n",
      "1580600/1580976 [============================>.] - ETA: 0s - loss: 1.0248Epoch 00030: saving model to ./taxi-030-3.6367.hdf5\n",
      "1580976/1580976 [==============================] - 96s 61us/step - loss: 1.0248 - val_loss: 3.6367\n",
      "Epoch 31/50\n",
      "1580200/1580976 [============================>.] - ETA: 0s - loss: 1.0227Epoch 00031: saving model to ./taxi-031-3.6040.hdf5\n",
      "1580976/1580976 [==============================] - 96s 61us/step - loss: 1.0227 - val_loss: 3.6040\n",
      "Epoch 32/50\n",
      "1580000/1580976 [============================>.] - ETA: 0s - loss: 1.0211Epoch 00032: saving model to ./taxi-032-3.6152.hdf5\n",
      "1580976/1580976 [==============================] - 96s 60us/step - loss: 1.0212 - val_loss: 3.6152\n",
      "Epoch 33/50\n",
      "1580200/1580976 [============================>.] - ETA: 0s - loss: 1.0193Epoch 00033: saving model to ./taxi-033-3.6227.hdf5\n",
      "1580976/1580976 [==============================] - 95s 60us/step - loss: 1.0193 - val_loss: 3.6227\n",
      "Epoch 34/50\n",
      "1580000/1580976 [============================>.] - ETA: 0s - loss: 1.0181Epoch 00034: saving model to ./taxi-034-3.6575.hdf5\n",
      "1580976/1580976 [==============================] - 95s 60us/step - loss: 1.0181 - val_loss: 3.6575\n",
      "Epoch 35/50\n",
      "1580400/1580976 [============================>.] - ETA: 0s - loss: 1.0165Epoch 00035: saving model to ./taxi-035-3.6231.hdf5\n",
      "1580976/1580976 [==============================] - 95s 60us/step - loss: 1.0164 - val_loss: 3.6231\n",
      "Epoch 36/50\n",
      "1580200/1580976 [============================>.] - ETA: 0s - loss: 1.0151Epoch 00036: saving model to ./taxi-036-3.6203.hdf5\n",
      "1580976/1580976 [==============================] - 96s 61us/step - loss: 1.0151 - val_loss: 3.6203\n",
      "Epoch 37/50\n",
      "1580200/1580976 [============================>.] - ETA: 0s - loss: 1.0134Epoch 00037: saving model to ./taxi-037-3.6641.hdf5\n",
      "1580976/1580976 [==============================] - 96s 61us/step - loss: 1.0134 - val_loss: 3.6641\n",
      "Epoch 38/50\n",
      "1580200/1580976 [============================>.] - ETA: 0s - loss: 1.0126Epoch 00038: saving model to ./taxi-038-3.6546.hdf5\n",
      "1580976/1580976 [==============================] - 96s 60us/step - loss: 1.0126 - val_loss: 3.6546\n",
      "Epoch 39/50\n",
      "1580200/1580976 [============================>.] - ETA: 0s - loss: 1.0112Epoch 00039: saving model to ./taxi-039-3.6086.hdf5\n",
      "1580976/1580976 [==============================] - 95s 60us/step - loss: 1.0112 - val_loss: 3.6086\n",
      "Epoch 40/50\n",
      "1580200/1580976 [============================>.] - ETA: 0s - loss: 1.0102Epoch 00040: saving model to ./taxi-040-3.6504.hdf5\n",
      "1580976/1580976 [==============================] - 95s 60us/step - loss: 1.0102 - val_loss: 3.6504\n",
      "Epoch 41/50\n",
      "1580200/1580976 [============================>.] - ETA: 0s - loss: 1.0092Epoch 00041: saving model to ./taxi-041-3.6208.hdf5\n",
      "1580976/1580976 [==============================] - 95s 60us/step - loss: 1.0092 - val_loss: 3.6208\n",
      "Epoch 42/50\n",
      "1580000/1580976 [============================>.] - ETA: 0s - loss: 1.0091Epoch 00042: saving model to ./taxi-042-3.6382.hdf5\n",
      "1580976/1580976 [==============================] - 95s 60us/step - loss: 1.0091 - val_loss: 3.6382\n",
      "Epoch 43/50\n",
      "1580400/1580976 [============================>.] - ETA: 0s - loss: 1.0076Epoch 00043: saving model to ./taxi-043-3.6130.hdf5\n",
      "1580976/1580976 [==============================] - 95s 60us/step - loss: 1.0076 - val_loss: 3.6130\n",
      "Epoch 44/50\n",
      "1580200/1580976 [============================>.] - ETA: 0s - loss: 1.0067Epoch 00044: saving model to ./taxi-044-3.6390.hdf5\n",
      "1580976/1580976 [==============================] - 95s 60us/step - loss: 1.0067 - val_loss: 3.6390\n",
      "Epoch 45/50\n",
      "1580400/1580976 [============================>.] - ETA: 0s - loss: 1.0053Epoch 00045: saving model to ./taxi-045-3.6189.hdf5\n",
      "1580976/1580976 [==============================] - 95s 60us/step - loss: 1.0052 - val_loss: 3.6189\n",
      "Epoch 46/50\n",
      "1580800/1580976 [============================>.] - ETA: 0s - loss: 1.0043Epoch 00046: saving model to ./taxi-046-3.6432.hdf5\n",
      "1580976/1580976 [==============================] - 94s 59us/step - loss: 1.0043 - val_loss: 3.6432\n",
      "Epoch 47/50\n",
      "1580400/1580976 [============================>.] - ETA: 0s - loss: 1.0048Epoch 00047: saving model to ./taxi-047-3.6448.hdf5\n",
      "1580976/1580976 [==============================] - 94s 60us/step - loss: 1.0048 - val_loss: 3.6448\n",
      "Epoch 48/50\n",
      "1580200/1580976 [============================>.] - ETA: 0s - loss: 1.0038Epoch 00048: saving model to ./taxi-048-3.6075.hdf5\n",
      "1580976/1580976 [==============================] - 94s 60us/step - loss: 1.0038 - val_loss: 3.6075\n",
      "Epoch 49/50\n",
      "1580200/1580976 [============================>.] - ETA: 0s - loss: 1.0023Epoch 00049: saving model to ./taxi-049-3.6057.hdf5\n",
      "1580976/1580976 [==============================] - 94s 60us/step - loss: 1.0023 - val_loss: 3.6057\n",
      "Epoch 50/50\n",
      "1580000/1580976 [============================>.] - ETA: 0s - loss: 1.0013Epoch 00050: saving model to ./taxi-050-3.6500.hdf5\n",
      "1580976/1580976 [==============================] - 95s 60us/step - loss: 1.0013 - val_loss: 3.6500\n"
     ]
    }
   ],
   "source": [
    "callbacks = []\n",
    "# Save the model's intermediary weights to disk after each epoch\n",
    "file_path = \"./taxi-{epoch:03d}-{val_loss:.4f}.hdf5\"\n",
    "callbacks.append(ModelCheckpoint(file_path, monitor='val_loss', mode='min', save_weights_only=True, verbose=1))\n",
    "\n",
    "history = model.fit(X_train_array, y_train_array, batch_size=200,\n",
    "                    callbacks=callbacks,validation_data=(X_val_array, y_val_array),epochs=50)"
   ]
  },
  {
   "cell_type": "code",
   "execution_count": 40,
   "metadata": {
    "collapsed": true
   },
   "outputs": [],
   "source": [
    "model.save('./ann_50epcoh.h5')"
   ]
  },
  {
   "cell_type": "code",
   "execution_count": 32,
   "metadata": {},
   "outputs": [
    {
     "data": {
      "image/png": "[encoded data removed]",
      "text/plain": [
       "<matplotlib.figure.Figure at 0x7fa02cd3e550>"
      ]
     },
     "metadata": {
      "image/png": {
       "height": 333,
       "width": 611
      }
     },
     "output_type": "display_data"
    }
   ],
   "source": [
    "import matplotlib.pyplot as plt\n",
    "%config InlineBackend.figure_format = 'retina'\n",
    "h = history.history\n",
    "\n",
    "loss = h['loss']\n",
    "val_loss = h['val_loss']\n",
    "\n",
    "epochs = range(len(loss))\n",
    "\n",
    "f,ax = plt.subplots(figsize=(10,5))\n",
    "plt.plot(epochs, loss, 'bo', label='Training loss')\n",
    "plt.plot(epochs, val_loss, 'b', label='Validation loss')\n",
    "plt.ylabel('Mean Distance between y_pred and y_val')\n",
    "plt.xlabel('Epochs')\n",
    "plt.title('Training and Validation loss', fontsize=14, fontweight='bold')\n",
    "plt.grid()\n",
    "plt.legend()\n",
    "plt.show()"
   ]
  },
  {
   "cell_type": "markdown",
   "metadata": {},
   "source": [
    "From the plot above, the training loss keeps decreasing, whereas the valiadation loss is rather consistent with minimal fluctuations. After epoch 20, the validation loss seems to have increased slightly, whereas the training continues to decrease. This shows that the model might be overfitting towards the training set. "
   ]
  },
  {
   "cell_type": "markdown",
   "metadata": {},
   "source": [
    "### Prep test set to fit in ANN model"
   ]
  },
  {
   "cell_type": "code",
   "execution_count": 33,
   "metadata": {
    "collapsed": true
   },
   "outputs": [],
   "source": [
    "test_coordinates = pd.DataFrame(get_coordinates(test))\n",
    "test_coordinates = coords_scaler.transform(test_coordinates)"
   ]
  },
  {
   "cell_type": "code",
   "execution_count": 34,
   "metadata": {},
   "outputs": [
    {
     "data": {
      "text/plain": [
       "Index([u'CALL_TYPE', u'ORIGIN_CALL', u'TAXI_ID', u'START_LAT', u'START_LONG',\n",
       "       u'WEEK', u'DAY', u'Q_HOUR', u'DURATION_LOG', u'DISTANCE_LOG', u'LAT_2',\n",
       "       u'LAT_3', u'LAT_4', u'LAT_5', u'LONG_2', u'LONG_3', u'LONG_4',\n",
       "       u'LONG_5', u'LAT_2_last', u'LAT_3_last', u'LAT_4_last', u'LAT_5_last',\n",
       "       u'LONG_2_last', u'LONG_3_last', u'LONG_4_last', u'LONG_5_last'],\n",
       "      dtype='object')"
      ]
     },
     "execution_count": 34,
     "metadata": {},
     "output_type": "execute_result"
    }
   ],
   "source": [
    "test.columns"
   ]
  },
  {
   "cell_type": "code",
   "execution_count": 35,
   "metadata": {
    "collapsed": true,
    "scrolled": true
   },
   "outputs": [],
   "source": [
    "test_array = X_prep(test, test_coordinates)"
   ]
  },
  {
   "cell_type": "code",
   "execution_count": 37,
   "metadata": {
    "collapsed": true
   },
   "outputs": [],
   "source": [
    "test_pred = model.predict(test_array)\n",
    "test_pred_df = pd.DataFrame(data = test_pred, columns=[\"LATITUDE\", \"LONGITUDE\"])"
   ]
  },
  {
   "cell_type": "code",
   "execution_count": 38,
   "metadata": {},
   "outputs": [
    {
     "data": {
      "text/html": [
       "<div>\n",
       "<style>\n",
       "    .dataframe thead tr:only-child th {\n",
       "        text-align: right;\n",
       "    }\n",
       "\n",
       "    .dataframe thead th {\n",
       "        text-align: left;\n",
       "    }\n",
       "\n",
       "    .dataframe tbody tr th {\n",
       "        vertical-align: top;\n",
       "    }\n",
       "</style>\n",
       "<table border=\"1\" class=\"dataframe\">\n",
       "  <thead>\n",
       "    <tr style=\"text-align: right;\">\n",
       "      <th></th>\n",
       "      <th>LATITUDE</th>\n",
       "      <th>LONGITUDE</th>\n",
       "    </tr>\n",
       "  </thead>\n",
       "  <tbody>\n",
       "    <tr>\n",
       "      <th>0</th>\n",
       "      <td>41.148949</td>\n",
       "      <td>-8.584395</td>\n",
       "    </tr>\n",
       "    <tr>\n",
       "      <th>1</th>\n",
       "      <td>41.159428</td>\n",
       "      <td>-8.601141</td>\n",
       "    </tr>\n",
       "    <tr>\n",
       "      <th>2</th>\n",
       "      <td>41.166698</td>\n",
       "      <td>-8.574886</td>\n",
       "    </tr>\n",
       "    <tr>\n",
       "      <th>3</th>\n",
       "      <td>41.147053</td>\n",
       "      <td>-8.615635</td>\n",
       "    </tr>\n",
       "    <tr>\n",
       "      <th>4</th>\n",
       "      <td>41.153099</td>\n",
       "      <td>-8.607381</td>\n",
       "    </tr>\n",
       "  </tbody>\n",
       "</table>\n",
       "</div>"
      ],
      "text/plain": [
       "    LATITUDE  LONGITUDE\n",
       "0  41.148949  -8.584395\n",
       "1  41.159428  -8.601141\n",
       "2  41.166698  -8.574886\n",
       "3  41.147053  -8.615635\n",
       "4  41.153099  -8.607381"
      ]
     },
     "execution_count": 38,
     "metadata": {},
     "output_type": "execute_result"
    }
   ],
   "source": [
    "test_pred_df.head()"
   ]
  },
  {
   "cell_type": "code",
   "execution_count": 39,
   "metadata": {
    "collapsed": true
   },
   "outputs": [],
   "source": [
    "test_pred_df.to_csv('./nn_50_epoch.csv')"
   ]
  },
  {
   "cell_type": "markdown",
   "metadata": {},
   "source": [
    "Public Score: 3.02832 #115/381  \n",
    "Private Score: 3.13960 #259/381"
   ]
  },
  {
   "cell_type": "markdown",
   "metadata": {
    "collapsed": true
   },
   "source": [
    "Conclusion: \n",
    "\n",
    "Prediction of destinations up to 3km accuracy is possible with:\n",
    "* Date & Time\n",
    "* Location data in the form of coordinates\n",
    "\n",
    "However, by adopting a classification model, due to the nature that the coordinates are extremely granular and there are places which the majority of the the public do not usually go, i.e farms in the outskirts of the city vs the city centre. The amount of points to form a cluster is extremely important to avoid a multivariate imbalance issue. However, it is extremely hard to determine the right amount of points required without domain expertise. Therefore, I strongly suggest using a regression model is more suited to predict destinations of trips. \n",
    "\n",
    "Further work:\n",
    "- Use a regression ANN model to predict destinations\n",
    "- Use of deep learning models such as Sequence to Sequence Recursive Neural Nets to be able to the path taken up to the destination \n",
    "- Explore other predictive models such as Hidden Markov Model or Karman filters to see if they are suitable to predict destinations\n",
    "- Include more features, such as holiday and weather information to help improve the predictions"
   ]
  },
  {
   "cell_type": "code",
   "execution_count": null,
   "metadata": {
    "collapsed": true
   },
   "outputs": [],
   "source": []
  }
 ],
 "metadata": {
  "kernelspec": {
   "display_name": "Python 2",
   "language": "python",
   "name": "python2"
  },
  "language_info": {
   "codemirror_mode": {
    "name": "ipython",
    "version": 2
   },
   "file_extension": ".py",
   "mimetype": "text/x-python",
   "name": "python",
   "nbconvert_exporter": "python",
   "pygments_lexer": "ipython2",
   "version": "2.7.11"
  }
 },
 "nbformat": 4,
 "nbformat_minor": 1
}
